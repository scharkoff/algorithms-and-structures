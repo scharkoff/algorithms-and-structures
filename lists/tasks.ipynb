{
 "cells": [
  {
   "cell_type": "code",
   "execution_count": 1,
   "metadata": {},
   "outputs": [
    {
     "name": "stdout",
     "output_type": "stream",
     "text": [
      "{'p': 0, 'o': 1, 'l': 2, 'y': 3, 't': 4}\n"
     ]
    }
   ],
   "source": [
    "print({value: key for key, value in enumerate(\"polyt\")})"
   ]
  },
  {
   "cell_type": "code",
   "execution_count": 4,
   "metadata": {},
   "outputs": [
    {
     "name": "stdout",
     "output_type": "stream",
     "text": [
      "{'p': '0', 'o': '11', 'l': '222', 'y': '3333', 't': '44444'}\n"
     ]
    }
   ],
   "source": [
    "print({value: str(key) + str(key)*key for key, value in enumerate(\"polyt\")})"
   ]
  },
  {
   "cell_type": "code",
   "execution_count": 17,
   "metadata": {},
   "outputs": [
    {
     "data": {
      "text/plain": [
       "[[1, 2, 3, 4, 5],\n",
       " [1, 2, 3, 4, 5],\n",
       " [1, 2, 3, 4, 5],\n",
       " [1, 2, 3, 4, 5],\n",
       " [1, 2, 3, 4, 5]]"
      ]
     },
     "execution_count": 17,
     "metadata": {},
     "output_type": "execute_result"
    }
   ],
   "source": [
    "def create_list(n):\n",
    "    return [[i for i in range(1, n+1)]]*n\n",
    "\n",
    "create_list(5)"
   ]
  },
  {
   "cell_type": "code",
   "execution_count": 30,
   "metadata": {},
   "outputs": [
    {
     "data": {
      "text/plain": [
       "[[1], [1, 2], [1, 2, 3], [1, 2, 3, 4], [1, 2, 3, 4, 5]]"
      ]
     },
     "execution_count": 30,
     "metadata": {},
     "output_type": "execute_result"
    }
   ],
   "source": [
    "def create_list(n):\n",
    "    return [[i for i in range(1, x+1)] for x in range (1, n+1)]\n",
    "\n",
    "create_list(5)"
   ]
  },
  {
   "cell_type": "code",
   "execution_count": 33,
   "metadata": {},
   "outputs": [
    {
     "name": "stdout",
     "output_type": "stream",
     "text": [
      "       *\n",
      "      ***\n",
      "     *****\n",
      "    *******\n",
      "   *********\n",
      "  ***********\n",
      " *************\n",
      "***************\n"
     ]
    }
   ],
   "source": [
    "c = \"*\"\n",
    "x = 8 \n",
    "for i in range(1, x + 1):\n",
    "        print(' ' * (x - i) + c * (2 * i - 1))\n",
    "        "
   ]
  },
  {
   "cell_type": "code",
   "execution_count": 54,
   "metadata": {},
   "outputs": [
    {
     "name": "stdout",
     "output_type": "stream",
     "text": [
      "       * *\n",
      "      *   *\n",
      "     *     *\n",
      "    *       *\n",
      "   *         *\n",
      "  *           *\n",
      " *             *\n",
      "*               *\n"
     ]
    }
   ],
   "source": [
    "c = \"*\"\n",
    "x = 8 \n",
    "for i in range(1, x + 1):\n",
    "        print(' ' * (x - i) + c + \" \" * (2 * i - 1) + c)\n",
    "        "
   ]
  },
  {
   "cell_type": "code",
   "execution_count": 70,
   "metadata": {},
   "outputs": [
    {
     "data": {
      "text/plain": [
       "{0: (0, 0), 2: (2, 2), 4: (4, 4), 6: (6, 6), 8: (8, 8)}"
      ]
     },
     "execution_count": 70,
     "metadata": {},
     "output_type": "execute_result"
    }
   ],
   "source": [
    "{i: (i, i) for i in range(0, 10) if i % 2 == 0}"
   ]
  },
  {
   "cell_type": "code",
   "execution_count": 81,
   "metadata": {},
   "outputs": [
    {
     "data": {
      "text/plain": [
       "{2: (2, 4, 6, 2)}"
      ]
     },
     "execution_count": 81,
     "metadata": {},
     "output_type": "execute_result"
    }
   ],
   "source": [
    "c = (2, 4, 6, 5, 2, 1)\n",
    "\n",
    "{c[0]: tuple(i for i in c if i % 2 == 0)}\n"
   ]
  },
  {
   "cell_type": "code",
   "execution_count": 84,
   "metadata": {},
   "outputs": [
    {
     "data": {
      "text/plain": [
       "{45: 20, 67: 42, 88: 64}"
      ]
     },
     "execution_count": 84,
     "metadata": {},
     "output_type": "execute_result"
    }
   ],
   "source": [
    "mas = [2, 'ert', 45, '124', 'dg', 67, 88]\n",
    "{el:int(str(el)[0]) * int(str(el)[1]) for el in mas if type(el) == int and 10<=el<=99}"
   ]
  },
  {
   "cell_type": "code",
   "execution_count": 85,
   "metadata": {},
   "outputs": [
    {
     "data": {
      "text/plain": [
       "{'Alex': 0.03375771604938271}"
      ]
     },
     "execution_count": 85,
     "metadata": {},
     "output_type": "execute_result"
    }
   ],
   "source": [
    "mas=[['Alex',175,72]]\n",
    "{el[0]:el[1]/el[2]**2 for el in mas}"
   ]
  }
 ],
 "metadata": {
  "kernelspec": {
   "display_name": "Python 3",
   "language": "python",
   "name": "python3"
  },
  "language_info": {
   "codemirror_mode": {
    "name": "ipython",
    "version": 3
   },
   "file_extension": ".py",
   "mimetype": "text/x-python",
   "name": "python",
   "nbconvert_exporter": "python",
   "pygments_lexer": "ipython3",
   "version": "3.10.4"
  },
  "orig_nbformat": 4
 },
 "nbformat": 4,
 "nbformat_minor": 2
}
